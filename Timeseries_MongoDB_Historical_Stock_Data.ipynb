{
 "cells": [
  {
   "cell_type": "markdown",
   "id": "347527e2",
   "metadata": {},
   "source": [
    "## Timeseries Data\n",
    "\n",
    "Go over using Time Series MongoDB collections by scraping stock market data over the internet"
   ]
  },
  {
   "cell_type": "markdown",
   "id": "e2f93e7f",
   "metadata": {},
   "source": [
    "##### Install Dependencies In Terminal (if you do not already have it)\n",
    "```bash\n",
    "pip install --user yfinance\n",
    "pip install --user matplotlib\n",
    "```"
   ]
  },
  {
   "cell_type": "code",
   "execution_count": 6,
   "id": "2ecc17f4",
   "metadata": {},
   "outputs": [
    {
     "name": "stdout",
     "output_type": "stream",
     "text": [
      "Requirement already satisfied: yfinance in c:\\users\\yalaz\\appdata\\roaming\\python\\python39\\site-packages (0.2.14)\n",
      "Requirement already satisfied: numpy>=1.16.5 in c:\\users\\yalaz\\anaconda3\\lib\\site-packages (from yfinance) (1.20.3)\n",
      "Requirement already satisfied: pytz>=2022.5 in c:\\users\\yalaz\\appdata\\roaming\\python\\python39\\site-packages (from yfinance) (2023.3)\n",
      "Requirement already satisfied: lxml>=4.9.1 in c:\\users\\yalaz\\appdata\\roaming\\python\\python39\\site-packages (from yfinance) (4.9.2)\n",
      "Requirement already satisfied: frozendict>=2.3.4 in c:\\users\\yalaz\\appdata\\roaming\\python\\python39\\site-packages (from yfinance) (2.3.6)\n",
      "Requirement already satisfied: appdirs>=1.4.4 in c:\\users\\yalaz\\anaconda3\\lib\\site-packages (from yfinance) (1.4.4)\n",
      "Requirement already satisfied: requests>=2.26 in c:\\users\\yalaz\\anaconda3\\lib\\site-packages (from yfinance) (2.27.1)\n",
      "Requirement already satisfied: cryptography>=3.3.2 in c:\\users\\yalaz\\anaconda3\\lib\\site-packages (from yfinance) (3.4.8)\n",
      "Requirement already satisfied: beautifulsoup4>=4.11.1 in c:\\users\\yalaz\\appdata\\roaming\\python\\python39\\site-packages (from yfinance) (4.12.2)\n",
      "Requirement already satisfied: multitasking>=0.0.7 in c:\\users\\yalaz\\appdata\\roaming\\python\\python39\\site-packages (from yfinance) (0.0.11)\n",
      "Requirement already satisfied: pandas>=1.3.0 in c:\\users\\yalaz\\anaconda3\\lib\\site-packages (from yfinance) (1.3.4)\n",
      "Requirement already satisfied: html5lib>=1.1 in c:\\users\\yalaz\\anaconda3\\lib\\site-packages (from yfinance) (1.1)\n",
      "Requirement already satisfied: soupsieve>1.2 in c:\\users\\yalaz\\anaconda3\\lib\\site-packages (from beautifulsoup4>=4.11.1->yfinance) (2.2.1)\n",
      "Requirement already satisfied: cffi>=1.12 in c:\\users\\yalaz\\anaconda3\\lib\\site-packages (from cryptography>=3.3.2->yfinance) (1.14.6)\n",
      "Requirement already satisfied: pycparser in c:\\users\\yalaz\\anaconda3\\lib\\site-packages (from cffi>=1.12->cryptography>=3.3.2->yfinance) (2.20)\n",
      "Requirement already satisfied: webencodings in c:\\users\\yalaz\\anaconda3\\lib\\site-packages (from html5lib>=1.1->yfinance) (0.5.1)\n",
      "Requirement already satisfied: six>=1.9 in c:\\users\\yalaz\\anaconda3\\lib\\site-packages (from html5lib>=1.1->yfinance) (1.16.0)\n",
      "Requirement already satisfied: python-dateutil>=2.7.3 in c:\\users\\yalaz\\anaconda3\\lib\\site-packages (from pandas>=1.3.0->yfinance) (2.8.2)\n",
      "Requirement already satisfied: charset-normalizer~=2.0.0 in c:\\users\\yalaz\\anaconda3\\lib\\site-packages (from requests>=2.26->yfinance) (2.0.4)\n",
      "Requirement already satisfied: certifi>=2017.4.17 in c:\\users\\yalaz\\anaconda3\\lib\\site-packages (from requests>=2.26->yfinance) (2021.10.8)\n",
      "Requirement already satisfied: idna<4,>=2.5 in c:\\users\\yalaz\\anaconda3\\lib\\site-packages (from requests>=2.26->yfinance) (3.2)\n",
      "Requirement already satisfied: urllib3<1.27,>=1.21.1 in c:\\users\\yalaz\\anaconda3\\lib\\site-packages (from requests>=2.26->yfinance) (1.26.7)\n"
     ]
    }
   ],
   "source": [
    "!pip install --user yfinance\n",
    "#!pip install --user matplotlib"
   ]
  },
  {
   "cell_type": "code",
   "execution_count": 1,
   "id": "9ebe4ca7",
   "metadata": {},
   "outputs": [],
   "source": [
    "from pymongo import MongoClient\n",
    "\n",
    "import pandas\n",
    "import yfinance as yf\n",
    "from datetime import datetime, timedelta\n",
    "from dateutil.relativedelta import relativedelta"
   ]
  },
  {
   "cell_type": "markdown",
   "id": "d0a37460",
   "metadata": {},
   "source": [
    "### Intro to yfinance"
   ]
  },
  {
   "cell_type": "code",
   "execution_count": 10,
   "id": "aa9f4459",
   "metadata": {},
   "outputs": [
    {
     "name": "stdout",
     "output_type": "stream",
     "text": [
      "[*********************100%***********************]  2 of 2 completed\n"
     ]
    }
   ],
   "source": [
    "tickers = [\"AMZN\", \"GOOGL\"]\n",
    "data = yf.download(tickers=tickers, period=\"1y\", interval=\"1d\")"
   ]
  },
  {
   "cell_type": "code",
   "execution_count": 12,
   "id": "2f9afb6b",
   "metadata": {},
   "outputs": [
    {
     "name": "stdout",
     "output_type": "stream",
     "text": [
      "<class 'pandas.core.frame.DataFrame'>\n"
     ]
    },
    {
     "data": {
      "text/html": [
       "<div>\n",
       "<style scoped>\n",
       "    .dataframe tbody tr th:only-of-type {\n",
       "        vertical-align: middle;\n",
       "    }\n",
       "\n",
       "    .dataframe tbody tr th {\n",
       "        vertical-align: top;\n",
       "    }\n",
       "\n",
       "    .dataframe thead tr th {\n",
       "        text-align: left;\n",
       "    }\n",
       "\n",
       "    .dataframe thead tr:last-of-type th {\n",
       "        text-align: right;\n",
       "    }\n",
       "</style>\n",
       "<table border=\"1\" class=\"dataframe\">\n",
       "  <thead>\n",
       "    <tr>\n",
       "      <th></th>\n",
       "      <th colspan=\"2\" halign=\"left\">Adj Close</th>\n",
       "      <th colspan=\"2\" halign=\"left\">Close</th>\n",
       "      <th colspan=\"2\" halign=\"left\">High</th>\n",
       "      <th colspan=\"2\" halign=\"left\">Low</th>\n",
       "      <th colspan=\"2\" halign=\"left\">Open</th>\n",
       "      <th colspan=\"2\" halign=\"left\">Volume</th>\n",
       "    </tr>\n",
       "    <tr>\n",
       "      <th></th>\n",
       "      <th>AMZN</th>\n",
       "      <th>GOOGL</th>\n",
       "      <th>AMZN</th>\n",
       "      <th>GOOGL</th>\n",
       "      <th>AMZN</th>\n",
       "      <th>GOOGL</th>\n",
       "      <th>AMZN</th>\n",
       "      <th>GOOGL</th>\n",
       "      <th>AMZN</th>\n",
       "      <th>GOOGL</th>\n",
       "      <th>AMZN</th>\n",
       "      <th>GOOGL</th>\n",
       "    </tr>\n",
       "    <tr>\n",
       "      <th>Date</th>\n",
       "      <th></th>\n",
       "      <th></th>\n",
       "      <th></th>\n",
       "      <th></th>\n",
       "      <th></th>\n",
       "      <th></th>\n",
       "      <th></th>\n",
       "      <th></th>\n",
       "      <th></th>\n",
       "      <th></th>\n",
       "      <th></th>\n",
       "      <th></th>\n",
       "    </tr>\n",
       "  </thead>\n",
       "  <tbody>\n",
       "    <tr>\n",
       "      <th>2022-04-07</th>\n",
       "      <td>157.784500</td>\n",
       "      <td>135.888504</td>\n",
       "      <td>157.784500</td>\n",
       "      <td>135.888504</td>\n",
       "      <td>160.078995</td>\n",
       "      <td>137.164505</td>\n",
       "      <td>154.511505</td>\n",
       "      <td>134.227493</td>\n",
       "      <td>158.399994</td>\n",
       "      <td>136.009995</td>\n",
       "      <td>68136000</td>\n",
       "      <td>26234000</td>\n",
       "    </tr>\n",
       "    <tr>\n",
       "      <th>2022-04-08</th>\n",
       "      <td>154.460495</td>\n",
       "      <td>133.287506</td>\n",
       "      <td>154.460495</td>\n",
       "      <td>133.287506</td>\n",
       "      <td>157.368500</td>\n",
       "      <td>135.669998</td>\n",
       "      <td>154.231003</td>\n",
       "      <td>132.965500</td>\n",
       "      <td>156.750000</td>\n",
       "      <td>135.583496</td>\n",
       "      <td>46002000</td>\n",
       "      <td>25142000</td>\n",
       "    </tr>\n",
       "    <tr>\n",
       "      <th>2022-04-11</th>\n",
       "      <td>151.121994</td>\n",
       "      <td>128.823502</td>\n",
       "      <td>151.121994</td>\n",
       "      <td>128.823502</td>\n",
       "      <td>154.136505</td>\n",
       "      <td>132.092499</td>\n",
       "      <td>150.534500</td>\n",
       "      <td>128.668503</td>\n",
       "      <td>152.712997</td>\n",
       "      <td>131.823502</td>\n",
       "      <td>52112000</td>\n",
       "      <td>36884000</td>\n",
       "    </tr>\n",
       "    <tr>\n",
       "      <th>2022-04-12</th>\n",
       "      <td>150.787506</td>\n",
       "      <td>127.714500</td>\n",
       "      <td>150.787506</td>\n",
       "      <td>127.714500</td>\n",
       "      <td>155.098999</td>\n",
       "      <td>131.600006</td>\n",
       "      <td>150.382996</td>\n",
       "      <td>126.789001</td>\n",
       "      <td>153.692505</td>\n",
       "      <td>131.600006</td>\n",
       "      <td>55178000</td>\n",
       "      <td>32710000</td>\n",
       "    </tr>\n",
       "  </tbody>\n",
       "</table>\n",
       "</div>"
      ],
      "text/plain": [
       "             Adj Close                   Close                    High  \\\n",
       "                  AMZN       GOOGL        AMZN       GOOGL        AMZN   \n",
       "Date                                                                     \n",
       "2022-04-07  157.784500  135.888504  157.784500  135.888504  160.078995   \n",
       "2022-04-08  154.460495  133.287506  154.460495  133.287506  157.368500   \n",
       "2022-04-11  151.121994  128.823502  151.121994  128.823502  154.136505   \n",
       "2022-04-12  150.787506  127.714500  150.787506  127.714500  155.098999   \n",
       "\n",
       "                               Low                    Open              \\\n",
       "                 GOOGL        AMZN       GOOGL        AMZN       GOOGL   \n",
       "Date                                                                     \n",
       "2022-04-07  137.164505  154.511505  134.227493  158.399994  136.009995   \n",
       "2022-04-08  135.669998  154.231003  132.965500  156.750000  135.583496   \n",
       "2022-04-11  132.092499  150.534500  128.668503  152.712997  131.823502   \n",
       "2022-04-12  131.600006  150.382996  126.789001  153.692505  131.600006   \n",
       "\n",
       "              Volume            \n",
       "                AMZN     GOOGL  \n",
       "Date                            \n",
       "2022-04-07  68136000  26234000  \n",
       "2022-04-08  46002000  25142000  \n",
       "2022-04-11  52112000  36884000  \n",
       "2022-04-12  55178000  32710000  "
      ]
     },
     "execution_count": 12,
     "metadata": {},
     "output_type": "execute_result"
    }
   ],
   "source": [
    "print(type(data))\n",
    "data[0:4]"
   ]
  },
  {
   "cell_type": "code",
   "execution_count": 11,
   "id": "3a3e205f",
   "metadata": {},
   "outputs": [
    {
     "data": {
      "image/png": "[encoded data removed]",
      "text/plain": [
       "<Figure size 1080x360 with 1 Axes>"
      ]
     },
     "metadata": {
      "needs_background": "light"
     },
     "output_type": "display_data"
    }
   ],
   "source": [
    "ax = data.plot(y=\"Close\", figsize=(15,5), title=str(tickers)+ \" Stock Price Close Date\")\n",
    "ax.set_ylabel(\"Close Price ($)\")\n",
    "None"
   ]
  },
  {
   "cell_type": "markdown",
   "id": "0944bc89",
   "metadata": {},
   "source": [
    "### Converting yfinance dataframe to dict format for insertion"
   ]
  },
  {
   "cell_type": "markdown",
   "id": "ad67dd31",
   "metadata": {},
   "source": [
    "##### Swap the columns so the ticker names are the highest level column"
   ]
  },
  {
   "cell_type": "code",
   "execution_count": 13,
   "id": "ba48e391",
   "metadata": {},
   "outputs": [
    {
     "data": {
      "text/html": [
       "<div>\n",
       "<style scoped>\n",
       "    .dataframe tbody tr th:only-of-type {\n",
       "        vertical-align: middle;\n",
       "    }\n",
       "\n",
       "    .dataframe tbody tr th {\n",
       "        vertical-align: top;\n",
       "    }\n",
       "\n",
       "    .dataframe thead tr th {\n",
       "        text-align: left;\n",
       "    }\n",
       "\n",
       "    .dataframe thead tr:last-of-type th {\n",
       "        text-align: right;\n",
       "    }\n",
       "</style>\n",
       "<table border=\"1\" class=\"dataframe\">\n",
       "  <thead>\n",
       "    <tr>\n",
       "      <th></th>\n",
       "      <th>AMZN</th>\n",
       "      <th>GOOGL</th>\n",
       "      <th>AMZN</th>\n",
       "      <th>GOOGL</th>\n",
       "      <th>AMZN</th>\n",
       "      <th>GOOGL</th>\n",
       "      <th>AMZN</th>\n",
       "      <th>GOOGL</th>\n",
       "      <th>AMZN</th>\n",
       "      <th>GOOGL</th>\n",
       "      <th>AMZN</th>\n",
       "      <th>GOOGL</th>\n",
       "    </tr>\n",
       "    <tr>\n",
       "      <th></th>\n",
       "      <th>Adj Close</th>\n",
       "      <th>Adj Close</th>\n",
       "      <th>Close</th>\n",
       "      <th>Close</th>\n",
       "      <th>High</th>\n",
       "      <th>High</th>\n",
       "      <th>Low</th>\n",
       "      <th>Low</th>\n",
       "      <th>Open</th>\n",
       "      <th>Open</th>\n",
       "      <th>Volume</th>\n",
       "      <th>Volume</th>\n",
       "    </tr>\n",
       "    <tr>\n",
       "      <th>Date</th>\n",
       "      <th></th>\n",
       "      <th></th>\n",
       "      <th></th>\n",
       "      <th></th>\n",
       "      <th></th>\n",
       "      <th></th>\n",
       "      <th></th>\n",
       "      <th></th>\n",
       "      <th></th>\n",
       "      <th></th>\n",
       "      <th></th>\n",
       "      <th></th>\n",
       "    </tr>\n",
       "  </thead>\n",
       "  <tbody>\n",
       "    <tr>\n",
       "      <th>2022-04-07</th>\n",
       "      <td>157.784500</td>\n",
       "      <td>135.888504</td>\n",
       "      <td>157.784500</td>\n",
       "      <td>135.888504</td>\n",
       "      <td>160.078995</td>\n",
       "      <td>137.164505</td>\n",
       "      <td>154.511505</td>\n",
       "      <td>134.227493</td>\n",
       "      <td>158.399994</td>\n",
       "      <td>136.009995</td>\n",
       "      <td>68136000</td>\n",
       "      <td>26234000</td>\n",
       "    </tr>\n",
       "    <tr>\n",
       "      <th>2022-04-08</th>\n",
       "      <td>154.460495</td>\n",
       "      <td>133.287506</td>\n",
       "      <td>154.460495</td>\n",
       "      <td>133.287506</td>\n",
       "      <td>157.368500</td>\n",
       "      <td>135.669998</td>\n",
       "      <td>154.231003</td>\n",
       "      <td>132.965500</td>\n",
       "      <td>156.750000</td>\n",
       "      <td>135.583496</td>\n",
       "      <td>46002000</td>\n",
       "      <td>25142000</td>\n",
       "    </tr>\n",
       "    <tr>\n",
       "      <th>2022-04-11</th>\n",
       "      <td>151.121994</td>\n",
       "      <td>128.823502</td>\n",
       "      <td>151.121994</td>\n",
       "      <td>128.823502</td>\n",
       "      <td>154.136505</td>\n",
       "      <td>132.092499</td>\n",
       "      <td>150.534500</td>\n",
       "      <td>128.668503</td>\n",
       "      <td>152.712997</td>\n",
       "      <td>131.823502</td>\n",
       "      <td>52112000</td>\n",
       "      <td>36884000</td>\n",
       "    </tr>\n",
       "  </tbody>\n",
       "</table>\n",
       "</div>"
      ],
      "text/plain": [
       "                  AMZN       GOOGL        AMZN       GOOGL        AMZN  \\\n",
       "             Adj Close   Adj Close       Close       Close        High   \n",
       "Date                                                                     \n",
       "2022-04-07  157.784500  135.888504  157.784500  135.888504  160.078995   \n",
       "2022-04-08  154.460495  133.287506  154.460495  133.287506  157.368500   \n",
       "2022-04-11  151.121994  128.823502  151.121994  128.823502  154.136505   \n",
       "\n",
       "                 GOOGL        AMZN       GOOGL        AMZN       GOOGL  \\\n",
       "                  High         Low         Low        Open        Open   \n",
       "Date                                                                     \n",
       "2022-04-07  137.164505  154.511505  134.227493  158.399994  136.009995   \n",
       "2022-04-08  135.669998  154.231003  132.965500  156.750000  135.583496   \n",
       "2022-04-11  132.092499  150.534500  128.668503  152.712997  131.823502   \n",
       "\n",
       "                AMZN     GOOGL  \n",
       "              Volume    Volume  \n",
       "Date                            \n",
       "2022-04-07  68136000  26234000  \n",
       "2022-04-08  46002000  25142000  \n",
       "2022-04-11  52112000  36884000  "
      ]
     },
     "execution_count": 13,
     "metadata": {},
     "output_type": "execute_result"
    }
   ],
   "source": [
    "data.columns = data.columns.swaplevel(0,1)\n",
    "data[0:3]"
   ]
  },
  {
   "cell_type": "code",
   "execution_count": 14,
   "id": "ce655fe4",
   "metadata": {},
   "outputs": [
    {
     "data": {
      "text/html": [
       "<div>\n",
       "<style scoped>\n",
       "    .dataframe tbody tr th:only-of-type {\n",
       "        vertical-align: middle;\n",
       "    }\n",
       "\n",
       "    .dataframe tbody tr th {\n",
       "        vertical-align: top;\n",
       "    }\n",
       "\n",
       "    .dataframe thead th {\n",
       "        text-align: right;\n",
       "    }\n",
       "</style>\n",
       "<table border=\"1\" class=\"dataframe\">\n",
       "  <thead>\n",
       "    <tr style=\"text-align: right;\">\n",
       "      <th></th>\n",
       "      <th>Adj Close</th>\n",
       "      <th>Close</th>\n",
       "      <th>High</th>\n",
       "      <th>Low</th>\n",
       "      <th>Open</th>\n",
       "      <th>Volume</th>\n",
       "    </tr>\n",
       "    <tr>\n",
       "      <th>Date</th>\n",
       "      <th></th>\n",
       "      <th></th>\n",
       "      <th></th>\n",
       "      <th></th>\n",
       "      <th></th>\n",
       "      <th></th>\n",
       "    </tr>\n",
       "  </thead>\n",
       "  <tbody>\n",
       "    <tr>\n",
       "      <th>2022-04-07</th>\n",
       "      <td>157.784500</td>\n",
       "      <td>157.784500</td>\n",
       "      <td>160.078995</td>\n",
       "      <td>154.511505</td>\n",
       "      <td>158.399994</td>\n",
       "      <td>68136000</td>\n",
       "    </tr>\n",
       "    <tr>\n",
       "      <th>2022-04-08</th>\n",
       "      <td>154.460495</td>\n",
       "      <td>154.460495</td>\n",
       "      <td>157.368500</td>\n",
       "      <td>154.231003</td>\n",
       "      <td>156.750000</td>\n",
       "      <td>46002000</td>\n",
       "    </tr>\n",
       "    <tr>\n",
       "      <th>2022-04-11</th>\n",
       "      <td>151.121994</td>\n",
       "      <td>151.121994</td>\n",
       "      <td>154.136505</td>\n",
       "      <td>150.534500</td>\n",
       "      <td>152.712997</td>\n",
       "      <td>52112000</td>\n",
       "    </tr>\n",
       "  </tbody>\n",
       "</table>\n",
       "</div>"
      ],
      "text/plain": [
       "             Adj Close       Close        High         Low        Open  \\\n",
       "Date                                                                     \n",
       "2022-04-07  157.784500  157.784500  160.078995  154.511505  158.399994   \n",
       "2022-04-08  154.460495  154.460495  157.368500  154.231003  156.750000   \n",
       "2022-04-11  151.121994  151.121994  154.136505  150.534500  152.712997   \n",
       "\n",
       "              Volume  \n",
       "Date                  \n",
       "2022-04-07  68136000  \n",
       "2022-04-08  46002000  \n",
       "2022-04-11  52112000  "
      ]
     },
     "execution_count": 14,
     "metadata": {},
     "output_type": "execute_result"
    }
   ],
   "source": [
    "data[\"AMZN\"][0:3]"
   ]
  },
  {
   "cell_type": "markdown",
   "id": "b2519622",
   "metadata": {},
   "source": [
    "##### Create an attribute an each entry that has the name of the ticker"
   ]
  },
  {
   "cell_type": "code",
   "execution_count": 15,
   "id": "2ac1e294",
   "metadata": {},
   "outputs": [],
   "source": [
    "for ticker in tickers:\n",
    "    data.loc[:, (ticker, \"Ticker\")] = ticker"
   ]
  },
  {
   "cell_type": "code",
   "execution_count": 16,
   "id": "17cb1a50",
   "metadata": {},
   "outputs": [
    {
     "data": {
      "text/html": [
       "<div>\n",
       "<style scoped>\n",
       "    .dataframe tbody tr th:only-of-type {\n",
       "        vertical-align: middle;\n",
       "    }\n",
       "\n",
       "    .dataframe tbody tr th {\n",
       "        vertical-align: top;\n",
       "    }\n",
       "\n",
       "    .dataframe thead th {\n",
       "        text-align: right;\n",
       "    }\n",
       "</style>\n",
       "<table border=\"1\" class=\"dataframe\">\n",
       "  <thead>\n",
       "    <tr style=\"text-align: right;\">\n",
       "      <th></th>\n",
       "      <th>Adj Close</th>\n",
       "      <th>Close</th>\n",
       "      <th>High</th>\n",
       "      <th>Low</th>\n",
       "      <th>Open</th>\n",
       "      <th>Volume</th>\n",
       "      <th>Ticker</th>\n",
       "    </tr>\n",
       "    <tr>\n",
       "      <th>Date</th>\n",
       "      <th></th>\n",
       "      <th></th>\n",
       "      <th></th>\n",
       "      <th></th>\n",
       "      <th></th>\n",
       "      <th></th>\n",
       "      <th></th>\n",
       "    </tr>\n",
       "  </thead>\n",
       "  <tbody>\n",
       "    <tr>\n",
       "      <th>2022-04-07</th>\n",
       "      <td>157.784500</td>\n",
       "      <td>157.784500</td>\n",
       "      <td>160.078995</td>\n",
       "      <td>154.511505</td>\n",
       "      <td>158.399994</td>\n",
       "      <td>68136000</td>\n",
       "      <td>AMZN</td>\n",
       "    </tr>\n",
       "    <tr>\n",
       "      <th>2022-04-08</th>\n",
       "      <td>154.460495</td>\n",
       "      <td>154.460495</td>\n",
       "      <td>157.368500</td>\n",
       "      <td>154.231003</td>\n",
       "      <td>156.750000</td>\n",
       "      <td>46002000</td>\n",
       "      <td>AMZN</td>\n",
       "    </tr>\n",
       "    <tr>\n",
       "      <th>2022-04-11</th>\n",
       "      <td>151.121994</td>\n",
       "      <td>151.121994</td>\n",
       "      <td>154.136505</td>\n",
       "      <td>150.534500</td>\n",
       "      <td>152.712997</td>\n",
       "      <td>52112000</td>\n",
       "      <td>AMZN</td>\n",
       "    </tr>\n",
       "  </tbody>\n",
       "</table>\n",
       "</div>"
      ],
      "text/plain": [
       "             Adj Close       Close        High         Low        Open  \\\n",
       "Date                                                                     \n",
       "2022-04-07  157.784500  157.784500  160.078995  154.511505  158.399994   \n",
       "2022-04-08  154.460495  154.460495  157.368500  154.231003  156.750000   \n",
       "2022-04-11  151.121994  151.121994  154.136505  150.534500  152.712997   \n",
       "\n",
       "              Volume Ticker  \n",
       "Date                         \n",
       "2022-04-07  68136000   AMZN  \n",
       "2022-04-08  46002000   AMZN  \n",
       "2022-04-11  52112000   AMZN  "
      ]
     },
     "execution_count": 16,
     "metadata": {},
     "output_type": "execute_result"
    }
   ],
   "source": [
    "data[\"AMZN\"][0:3]"
   ]
  },
  {
   "cell_type": "markdown",
   "id": "55594023",
   "metadata": {},
   "source": [
    "##### Set date index to a column "
   ]
  },
  {
   "cell_type": "code",
   "execution_count": 17,
   "id": "f47004c2",
   "metadata": {},
   "outputs": [
    {
     "data": {
      "text/html": [
       "<div>\n",
       "<style scoped>\n",
       "    .dataframe tbody tr th:only-of-type {\n",
       "        vertical-align: middle;\n",
       "    }\n",
       "\n",
       "    .dataframe tbody tr th {\n",
       "        vertical-align: top;\n",
       "    }\n",
       "\n",
       "    .dataframe thead th {\n",
       "        text-align: right;\n",
       "    }\n",
       "</style>\n",
       "<table border=\"1\" class=\"dataframe\">\n",
       "  <thead>\n",
       "    <tr style=\"text-align: right;\">\n",
       "      <th></th>\n",
       "      <th>Date</th>\n",
       "      <th>Adj Close</th>\n",
       "      <th>Close</th>\n",
       "      <th>High</th>\n",
       "      <th>Low</th>\n",
       "      <th>Open</th>\n",
       "      <th>Volume</th>\n",
       "      <th>Ticker</th>\n",
       "    </tr>\n",
       "  </thead>\n",
       "  <tbody>\n",
       "    <tr>\n",
       "      <th>0</th>\n",
       "      <td>2022-04-07</td>\n",
       "      <td>157.784500</td>\n",
       "      <td>157.784500</td>\n",
       "      <td>160.078995</td>\n",
       "      <td>154.511505</td>\n",
       "      <td>158.399994</td>\n",
       "      <td>68136000</td>\n",
       "      <td>AMZN</td>\n",
       "    </tr>\n",
       "    <tr>\n",
       "      <th>1</th>\n",
       "      <td>2022-04-08</td>\n",
       "      <td>154.460495</td>\n",
       "      <td>154.460495</td>\n",
       "      <td>157.368500</td>\n",
       "      <td>154.231003</td>\n",
       "      <td>156.750000</td>\n",
       "      <td>46002000</td>\n",
       "      <td>AMZN</td>\n",
       "    </tr>\n",
       "    <tr>\n",
       "      <th>2</th>\n",
       "      <td>2022-04-11</td>\n",
       "      <td>151.121994</td>\n",
       "      <td>151.121994</td>\n",
       "      <td>154.136505</td>\n",
       "      <td>150.534500</td>\n",
       "      <td>152.712997</td>\n",
       "      <td>52112000</td>\n",
       "      <td>AMZN</td>\n",
       "    </tr>\n",
       "  </tbody>\n",
       "</table>\n",
       "</div>"
      ],
      "text/plain": [
       "        Date   Adj Close       Close        High         Low        Open  \\\n",
       "0 2022-04-07  157.784500  157.784500  160.078995  154.511505  158.399994   \n",
       "1 2022-04-08  154.460495  154.460495  157.368500  154.231003  156.750000   \n",
       "2 2022-04-11  151.121994  151.121994  154.136505  150.534500  152.712997   \n",
       "\n",
       "     Volume Ticker  \n",
       "0  68136000   AMZN  \n",
       "1  46002000   AMZN  \n",
       "2  52112000   AMZN  "
      ]
     },
     "execution_count": 17,
     "metadata": {},
     "output_type": "execute_result"
    }
   ],
   "source": [
    "data[\"AMZN\"].reset_index(level=0)[0:3]"
   ]
  },
  {
   "cell_type": "markdown",
   "id": "485c95d8",
   "metadata": {},
   "source": [
    "##### Convert the dataframe to an array of dictionaries "
   ]
  },
  {
   "cell_type": "code",
   "execution_count": 18,
   "id": "84f2c9b0",
   "metadata": {},
   "outputs": [
    {
     "data": {
      "text/plain": [
       "[{'Date': Timestamp('2022-04-07 00:00:00'),\n",
       "  'Adj Close': 157.7845001220703,\n",
       "  'Close': 157.7845001220703,\n",
       "  'High': 160.07899475097656,\n",
       "  'Low': 154.51150512695312,\n",
       "  'Open': 158.39999389648438,\n",
       "  'Volume': 68136000,\n",
       "  'Ticker': 'AMZN'},\n",
       " {'Date': Timestamp('2022-04-08 00:00:00'),\n",
       "  'Adj Close': 154.4604949951172,\n",
       "  'Close': 154.4604949951172,\n",
       "  'High': 157.36849975585938,\n",
       "  'Low': 154.2310028076172,\n",
       "  'Open': 156.75,\n",
       "  'Volume': 46002000,\n",
       "  'Ticker': 'AMZN'},\n",
       " {'Date': Timestamp('2022-04-11 00:00:00'),\n",
       "  'Adj Close': 151.1219940185547,\n",
       "  'Close': 151.1219940185547,\n",
       "  'High': 154.13650512695312,\n",
       "  'Low': 150.5345001220703,\n",
       "  'Open': 152.71299743652344,\n",
       "  'Volume': 52112000,\n",
       "  'Ticker': 'AMZN'}]"
      ]
     },
     "execution_count": 18,
     "metadata": {},
     "output_type": "execute_result"
    }
   ],
   "source": [
    "data[\"AMZN\"].reset_index(level=0)[0:3].to_dict('records')[0:3]"
   ]
  },
  {
   "cell_type": "markdown",
   "id": "f7e37292",
   "metadata": {},
   "source": [
    "### Connect To MongoDB instance"
   ]
  },
  {
   "cell_type": "code",
   "execution_count": 19,
   "id": "7aaae524",
   "metadata": {},
   "outputs": [],
   "source": [
    "mongodb_uri = \"mongodb://localhost:27017/\"\n",
    "db_name = \"advanced_features\""
   ]
  },
  {
   "cell_type": "code",
   "execution_count": 20,
   "id": "cbb879e9",
   "metadata": {},
   "outputs": [],
   "source": [
    "client = MongoClient(mongodb_uri)\n",
    "db = client[db_name]"
   ]
  },
  {
   "cell_type": "markdown",
   "id": "42842740",
   "metadata": {},
   "source": [
    "### Creating  A Time-Series Collection\n",
    "\n",
    "You could also use the compass app or mongoshell"
   ]
  },
  {
   "cell_type": "code",
   "execution_count": 21,
   "id": "fae693ac",
   "metadata": {},
   "outputs": [
    {
     "data": {
      "text/plain": [
       "Collection(Database(MongoClient(host=['localhost:27017'], document_class=dict, tz_aware=False, connect=True), 'advanced_features'), 'historical_stock_data')"
      ]
     },
     "execution_count": 21,
     "metadata": {},
     "output_type": "execute_result"
    }
   ],
   "source": [
    "db.create_collection(\"historical_stock_data\", timeseries = {\n",
    "    \"timeField\": \"Date\",\n",
    "    \"metaField\": \"Ticker\",\n",
    "    \"granularity\": \"hours\"\n",
    "}, expireAfterSeconds = 60 * 60 * 24 * 365) #1 year"
   ]
  },
  {
   "cell_type": "markdown",
   "id": "a3b680b8",
   "metadata": {},
   "source": [
    "### Inserting The Time-Series Stock Data"
   ]
  },
  {
   "cell_type": "markdown",
   "id": "c422f747",
   "metadata": {},
   "source": [
    "##### Download the data"
   ]
  },
  {
   "cell_type": "code",
   "execution_count": 24,
   "id": "673293f6",
   "metadata": {},
   "outputs": [
    {
     "name": "stdout",
     "output_type": "stream",
     "text": [
      "[*********************100%***********************]  5 of 5 completed\n"
     ]
    }
   ],
   "source": [
    "tickers = [\"AMZN\",\"META\",\"GOOGL\",\"MSFT\",\"UDMY\"]\n",
    "data = yf.download(tickers=tickers, period=\"2y\", interval=\"1d\")"
   ]
  },
  {
   "cell_type": "markdown",
   "id": "f529e511",
   "metadata": {},
   "source": [
    "##### Process dataframe into list of dictionaries"
   ]
  },
  {
   "cell_type": "code",
   "execution_count": 25,
   "id": "44f0e47a",
   "metadata": {},
   "outputs": [],
   "source": [
    "stock_data_to_insert = []\n",
    "data.columns = data.columns.swaplevel(0,1)\n",
    "\n",
    "for ticker in tickers:\n",
    "    data.loc[:, (ticker, \"Ticker\")] = ticker\n",
    "    stock_data_to_insert.extend(data[ticker].reset_index(level=0).to_dict('records'))"
   ]
  },
  {
   "cell_type": "code",
   "execution_count": 26,
   "id": "0e7a2b4e",
   "metadata": {},
   "outputs": [
    {
     "data": {
      "text/plain": [
       "[{'Date': Timestamp('2021-04-07 00:00:00'),\n",
       "  'Adj Close': 163.96949768066406,\n",
       "  'Close': 163.96949768066406,\n",
       "  'High': 165.1804962158203,\n",
       "  'Low': 161.1824951171875,\n",
       "  'Open': 161.69000244140625,\n",
       "  'Volume': 66924000,\n",
       "  'Ticker': 'AMZN'},\n",
       " {'Date': Timestamp('2021-04-08 00:00:00'),\n",
       "  'Adj Close': 164.96499633789062,\n",
       "  'Close': 164.96499633789062,\n",
       "  'High': 166.22500610351562,\n",
       "  'Low': 164.60000610351562,\n",
       "  'Open': 165.5449981689453,\n",
       "  'Volume': 56242000,\n",
       "  'Ticker': 'AMZN'}]"
      ]
     },
     "execution_count": 26,
     "metadata": {},
     "output_type": "execute_result"
    }
   ],
   "source": [
    "stock_data_to_insert[0:2]"
   ]
  },
  {
   "cell_type": "markdown",
   "id": "89e28caa",
   "metadata": {},
   "source": [
    "##### Call insert_many() on time series collection"
   ]
  },
  {
   "cell_type": "code",
   "execution_count": 27,
   "id": "a1048c0f",
   "metadata": {},
   "outputs": [
    {
     "data": {
      "text/plain": [
       "<pymongo.results.InsertManyResult at 0x213875ff7f0>"
      ]
     },
     "execution_count": 27,
     "metadata": {},
     "output_type": "execute_result"
    }
   ],
   "source": [
    "db.historical_stock_data.insert_many(stock_data_to_insert)"
   ]
  },
  {
   "cell_type": "markdown",
   "id": "7d93a907",
   "metadata": {},
   "source": [
    "### Retrieving Time-Series Data"
   ]
  },
  {
   "cell_type": "code",
   "execution_count": 28,
   "id": "d35804d5",
   "metadata": {},
   "outputs": [
    {
     "data": {
      "text/plain": [
       "datetime.datetime(2022, 10, 9, 20, 40, 34, 321620)"
      ]
     },
     "execution_count": 28,
     "metadata": {},
     "output_type": "execute_result"
    }
   ],
   "source": [
    "gt_date = datetime.now() - relativedelta(months=6)\n",
    "gt_date"
   ]
  },
  {
   "cell_type": "code",
   "execution_count": 29,
   "id": "82a48727",
   "metadata": {},
   "outputs": [
    {
     "data": {
      "text/plain": [
       "[{'Date': datetime.datetime(2022, 10, 10, 0, 0),\n",
       "  'Ticker': 'META',\n",
       "  'Adj Close': 133.7899932861328,\n",
       "  'Low': 131.8699951171875,\n",
       "  'Open': 133.5500030517578,\n",
       "  'Volume': 24024000,\n",
       "  'High': 136.11000061035156,\n",
       "  'Close': 133.7899932861328,\n",
       "  '_id': ObjectId('643305dfd4c26cc5c5d19534')},\n",
       " {'Date': datetime.datetime(2022, 10, 11, 0, 0),\n",
       "  'Ticker': 'META',\n",
       "  'Adj Close': 128.5399932861328,\n",
       "  'Low': 126.98999786376953,\n",
       "  'Open': 131.6199951171875,\n",
       "  'Volume': 38481400,\n",
       "  'High': 132.66000366210938,\n",
       "  'Close': 128.5399932861328,\n",
       "  '_id': ObjectId('643305dfd4c26cc5c5d19535')}]"
      ]
     },
     "execution_count": 29,
     "metadata": {},
     "output_type": "execute_result"
    }
   ],
   "source": [
    "ts_cursor = db.historical_stock_data.find({\"Ticker\": \"META\", \"Date\": {\"$gte\": gt_date}})\n",
    "\n",
    "meta_price_data = list(ts_cursor)\n",
    "meta_price_data[0:2]\n"
   ]
  },
  {
   "cell_type": "code",
   "execution_count": 34,
   "id": "21e7d133",
   "metadata": {},
   "outputs": [
    {
     "data": {
      "text/html": [
       "<div>\n",
       "<style scoped>\n",
       "    .dataframe tbody tr th:only-of-type {\n",
       "        vertical-align: middle;\n",
       "    }\n",
       "\n",
       "    .dataframe tbody tr th {\n",
       "        vertical-align: top;\n",
       "    }\n",
       "\n",
       "    .dataframe thead th {\n",
       "        text-align: right;\n",
       "    }\n",
       "</style>\n",
       "<table border=\"1\" class=\"dataframe\">\n",
       "  <thead>\n",
       "    <tr style=\"text-align: right;\">\n",
       "      <th></th>\n",
       "      <th>Ticker</th>\n",
       "      <th>Adj Close</th>\n",
       "      <th>Low</th>\n",
       "      <th>Open</th>\n",
       "      <th>Volume</th>\n",
       "      <th>High</th>\n",
       "      <th>Close</th>\n",
       "    </tr>\n",
       "    <tr>\n",
       "      <th>Date</th>\n",
       "      <th></th>\n",
       "      <th></th>\n",
       "      <th></th>\n",
       "      <th></th>\n",
       "      <th></th>\n",
       "      <th></th>\n",
       "      <th></th>\n",
       "    </tr>\n",
       "  </thead>\n",
       "  <tbody>\n",
       "    <tr>\n",
       "      <th>2022-10-10</th>\n",
       "      <td>META</td>\n",
       "      <td>133.789993</td>\n",
       "      <td>131.869995</td>\n",
       "      <td>133.550003</td>\n",
       "      <td>24024000</td>\n",
       "      <td>136.110001</td>\n",
       "      <td>133.789993</td>\n",
       "    </tr>\n",
       "    <tr>\n",
       "      <th>2022-10-11</th>\n",
       "      <td>META</td>\n",
       "      <td>128.539993</td>\n",
       "      <td>126.989998</td>\n",
       "      <td>131.619995</td>\n",
       "      <td>38481400</td>\n",
       "      <td>132.660004</td>\n",
       "      <td>128.539993</td>\n",
       "    </tr>\n",
       "    <tr>\n",
       "      <th>2022-10-12</th>\n",
       "      <td>META</td>\n",
       "      <td>127.500000</td>\n",
       "      <td>126.250000</td>\n",
       "      <td>128.320007</td>\n",
       "      <td>34605200</td>\n",
       "      <td>129.669998</td>\n",
       "      <td>127.500000</td>\n",
       "    </tr>\n",
       "    <tr>\n",
       "      <th>2022-10-13</th>\n",
       "      <td>META</td>\n",
       "      <td>130.289993</td>\n",
       "      <td>122.529999</td>\n",
       "      <td>123.529999</td>\n",
       "      <td>34325700</td>\n",
       "      <td>131.139999</td>\n",
       "      <td>130.289993</td>\n",
       "    </tr>\n",
       "    <tr>\n",
       "      <th>2022-10-14</th>\n",
       "      <td>META</td>\n",
       "      <td>126.760002</td>\n",
       "      <td>126.519997</td>\n",
       "      <td>131.000000</td>\n",
       "      <td>23559400</td>\n",
       "      <td>131.789993</td>\n",
       "      <td>126.760002</td>\n",
       "    </tr>\n",
       "    <tr>\n",
       "      <th>...</th>\n",
       "      <td>...</td>\n",
       "      <td>...</td>\n",
       "      <td>...</td>\n",
       "      <td>...</td>\n",
       "      <td>...</td>\n",
       "      <td>...</td>\n",
       "      <td>...</td>\n",
       "    </tr>\n",
       "    <tr>\n",
       "      <th>2023-03-31</th>\n",
       "      <td>META</td>\n",
       "      <td>211.940002</td>\n",
       "      <td>206.770004</td>\n",
       "      <td>207.240005</td>\n",
       "      <td>25412000</td>\n",
       "      <td>212.169998</td>\n",
       "      <td>211.940002</td>\n",
       "    </tr>\n",
       "    <tr>\n",
       "      <th>2023-04-03</th>\n",
       "      <td>META</td>\n",
       "      <td>213.070007</td>\n",
       "      <td>208.199997</td>\n",
       "      <td>208.839996</td>\n",
       "      <td>17924600</td>\n",
       "      <td>213.490005</td>\n",
       "      <td>213.070007</td>\n",
       "    </tr>\n",
       "    <tr>\n",
       "      <th>2023-04-04</th>\n",
       "      <td>META</td>\n",
       "      <td>214.720001</td>\n",
       "      <td>212.539993</td>\n",
       "      <td>213.389999</td>\n",
       "      <td>21026400</td>\n",
       "      <td>216.240005</td>\n",
       "      <td>214.720001</td>\n",
       "    </tr>\n",
       "    <tr>\n",
       "      <th>2023-04-05</th>\n",
       "      <td>META</td>\n",
       "      <td>211.479996</td>\n",
       "      <td>209.940002</td>\n",
       "      <td>214.149994</td>\n",
       "      <td>19396600</td>\n",
       "      <td>215.190002</td>\n",
       "      <td>211.479996</td>\n",
       "    </tr>\n",
       "    <tr>\n",
       "      <th>2023-04-06</th>\n",
       "      <td>META</td>\n",
       "      <td>216.100006</td>\n",
       "      <td>208.649994</td>\n",
       "      <td>209.250000</td>\n",
       "      <td>26104400</td>\n",
       "      <td>216.940002</td>\n",
       "      <td>216.100006</td>\n",
       "    </tr>\n",
       "  </tbody>\n",
       "</table>\n",
       "<p>124 rows × 7 columns</p>\n",
       "</div>"
      ],
      "text/plain": [
       "           Ticker   Adj Close         Low        Open    Volume        High  \\\n",
       "Date                                                                          \n",
       "2022-10-10   META  133.789993  131.869995  133.550003  24024000  136.110001   \n",
       "2022-10-11   META  128.539993  126.989998  131.619995  38481400  132.660004   \n",
       "2022-10-12   META  127.500000  126.250000  128.320007  34605200  129.669998   \n",
       "2022-10-13   META  130.289993  122.529999  123.529999  34325700  131.139999   \n",
       "2022-10-14   META  126.760002  126.519997  131.000000  23559400  131.789993   \n",
       "...           ...         ...         ...         ...       ...         ...   \n",
       "2023-03-31   META  211.940002  206.770004  207.240005  25412000  212.169998   \n",
       "2023-04-03   META  213.070007  208.199997  208.839996  17924600  213.490005   \n",
       "2023-04-04   META  214.720001  212.539993  213.389999  21026400  216.240005   \n",
       "2023-04-05   META  211.479996  209.940002  214.149994  19396600  215.190002   \n",
       "2023-04-06   META  216.100006  208.649994  209.250000  26104400  216.940002   \n",
       "\n",
       "                 Close  \n",
       "Date                    \n",
       "2022-10-10  133.789993  \n",
       "2022-10-11  128.539993  \n",
       "2022-10-12  127.500000  \n",
       "2022-10-13  130.289993  \n",
       "2022-10-14  126.760002  \n",
       "...                ...  \n",
       "2023-03-31  211.940002  \n",
       "2023-04-03  213.070007  \n",
       "2023-04-04  214.720001  \n",
       "2023-04-05  211.479996  \n",
       "2023-04-06  216.100006  \n",
       "\n",
       "[124 rows x 7 columns]"
      ]
     },
     "execution_count": 34,
     "metadata": {},
     "output_type": "execute_result"
    }
   ],
   "source": [
    "read_in_data = pandas.DataFrame(meta_price_data)\n",
    "read_in_data = read_in_data.set_index(\"Date\")\n",
    "read_in_data = read_in_data.drop(\"_id\", axis=1)\n",
    "read_in_data"
   ]
  }
 ],
 "metadata": {
  "kernelspec": {
   "display_name": "Python 3 (ipykernel)",
   "language": "python",
   "name": "python3"
  },
  "language_info": {
   "codemirror_mode": {
    "name": "ipython",
    "version": 3
   },
   "file_extension": ".py",
   "mimetype": "text/x-python",
   "name": "python",
   "nbconvert_exporter": "python",
   "pygments_lexer": "ipython3",
   "version": "3.9.7"
  }
 },
 "nbformat": 4,
 "nbformat_minor": 5
}
